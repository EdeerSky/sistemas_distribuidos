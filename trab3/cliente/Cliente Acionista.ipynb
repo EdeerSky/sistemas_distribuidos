{
 "cells": [
  {
   "cell_type": "code",
   "execution_count": null,
   "metadata": {
    "collapsed": false
   },
   "outputs": [],
   "source": [
    "import requests\n",
    "from IPython.display import clear_output\n",
    "import random\n",
    "import os\n",
    "\n",
    "myId = random.randint(100, 999)\n",
    "\n",
    "def insertChar(mystring, position, chartoinsert ):\n",
    "    mystring   =  mystring[:position] + chartoinsert + mystring[position:] \n",
    "    return mystring \n",
    "\n",
    "def rmv_str(test_str):\n",
    "    ret = ''\n",
    "    skip1c = 0\n",
    "    skip2c = 0\n",
    "    skip3c = 0\n",
    "    for i in test_str:\n",
    "        if i == '[':\n",
    "            skip1c += 1\n",
    "        elif i == '<':\n",
    "            skip2c += 1\n",
    "        elif i == '{':\n",
    "            skip3c += 1\n",
    "        elif i == ']' and skip1c > 0:\n",
    "            skip1c -= 1\n",
    "        elif i == '>' and skip2c > 0:\n",
    "            skip2c -= 1\n",
    "        elif i == '}' and skip3c > 0:\n",
    "            skip3c -= 1\n",
    "        elif skip1c == 0 and skip2c == 0 and skip3c == 0:\n",
    "            ret += i\n",
    "    return ret\n",
    "\n",
    "print('Digite \"comandos\" para saber os comandos disponíveis ou \"clear\" para limpar a saída. Seu Id é', myId)\n",
    "while(1):\n",
    "    entrada = input(\"Digite o comando: \")\n",
    "    if(entrada !='comandos' and entrada != 'clear'):\n",
    "        if('check' not in entrada):\n",
    "            entrada = entrada.replace(\" \", \":\")\n",
    "            entrada = insertChar(entrada, entrada.find(':'), ':'+str(myId))\n",
    "            saida = 'http://localhost:8080/servidor/webresources/helloworld/' + entrada\n",
    "        else:\n",
    "            entrada = entrada.replace(\" \", \":\")\n",
    "            saida = 'http://localhost:8080/servidor/webresources/helloworld/' + entrada\n",
    "        r = requests.get(saida)\n",
    "        print(saida)\n",
    "        print(rmv_str(r.text).encode(\"windows-1252\").decode(\"utf-8\"))\n",
    "    if(entrada=='comandos'):\n",
    "        print('Comandos disponíveis:')\n",
    "        print(' - Compra de ações   ->  compra nomeAção Preço')\n",
    "        print(' - Venda de ações    ->  venda nomeAção Preço')\n",
    "        print(' - Consulta de preço ->  consulta nomeAção')\n",
    "        print(' - Checar status     ->  check idTransação')\n",
    "    if(entrada=='clear'):\n",
    "        clear_output()\n",
    "        os.system('cls')\n",
    "        os.system('clear')\n",
    "        print('Digite \"comandos\" para saber os comandos disponíveis ou \"clear\" para limpar a saída. Seu Id é', myId)"
   ]
  },
  {
   "cell_type": "code",
   "execution_count": null,
   "metadata": {
    "collapsed": true
   },
   "outputs": [],
   "source": []
  }
 ],
 "metadata": {
  "kernelspec": {
   "display_name": "Python 3",
   "language": "python",
   "name": "python3"
  },
  "language_info": {
   "codemirror_mode": {
    "name": "ipython",
    "version": 3
   },
   "file_extension": ".py",
   "mimetype": "text/x-python",
   "name": "python",
   "nbconvert_exporter": "python",
   "pygments_lexer": "ipython3",
   "version": "3.6.0"
  }
 },
 "nbformat": 4,
 "nbformat_minor": 2
}
