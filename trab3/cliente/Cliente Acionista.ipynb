{
 "cells": [
  {
   "cell_type": "code",
   "execution_count": null,
   "metadata": {
    "collapsed": false
   },
   "outputs": [
    {
     "name": "stdout",
     "output_type": "stream",
     "text": [
      "Digite \"comandos\" para saber os comandos disponíveis ou \"clear\" para limpar a saída\n",
      "Digite o comando: consulta:2:exxon\n",
      "http://localhost:8080/servidor/webresources/helloworld/consulta:2:exxon\n",
      "exxon tem preco de 62.985435\n",
      "Digite o comando: consulta:2:exxon\n",
      "http://localhost:8080/servidor/webresources/helloworld/consulta:2:exxon\n",
      "exxon tem preco de 62.985435\n",
      "Digite o comando: consulta:2:exxon\n",
      "http://localhost:8080/servidor/webresources/helloworld/consulta:2:exxon\n",
      "exxon tem preco de 62.985435\n",
      "Digite o comando: consulta:2:exxon\n",
      "http://localhost:8080/servidor/webresources/helloworld/consulta:2:exxon\n",
      "exxon tem preco de 38.483055\n",
      "Digite o comando: compra:123:exxon:10\n",
      "http://localhost:8080/servidor/webresources/helloworld/compra:123:exxon:10\n",
      "1:isso Ã© uma compra, bem vindo\n",
      "Digite o comando: compra:123:exxon:2\n",
      "http://localhost:8080/servidor/webresources/helloworld/compra:123:exxon:2\n",
      "2:isso Ã© uma compra, bem vindo\n",
      "Digite o comando: check:123:1\n",
      "http://localhost:8080/servidor/webresources/helloworld/check:123:1\n",
      "Essa transaÃ§Ã£o nÃ£o existe. check de estado da transacao, bem vindo\n",
      "Digite o comando: check:1\n",
      "http://localhost:8080/servidor/webresources/helloworld/check:1\n",
      "null\n",
      "Digite o comando: check:123:2\n",
      "http://localhost:8080/servidor/webresources/helloworld/check:123:2\n",
      "Essa transaÃ§Ã£o nÃ£o existe. check de estado da transacao, bem vindo\n",
      "Digite o comando: check:1\n",
      "http://localhost:8080/servidor/webresources/helloworld/check:1\n",
      "null\n",
      "Digite o comando: check:123:!\n",
      "http://localhost:8080/servidor/webresources/helloworld/check:123:!\n",
      "Essa transaÃ§Ã£o nÃ£o existe. check de estado da transacao, bem vindo\n",
      "Digite o comando: check:1\n",
      "http://localhost:8080/servidor/webresources/helloworld/check:1\n",
      "null\n"
     ]
    }
   ],
   "source": [
    "import requests\n",
    "from IPython.display import clear_output\n",
    "\n",
    "def rmv_str(test_str):\n",
    "    ret = ''\n",
    "    skip1c = 0\n",
    "    skip2c = 0\n",
    "    skip3c = 0\n",
    "    for i in test_str:\n",
    "        if i == '[':\n",
    "            skip1c += 1\n",
    "        elif i == '<':\n",
    "            skip2c += 1\n",
    "        elif i == '{':\n",
    "            skip3c += 1\n",
    "        elif i == ']' and skip1c > 0:\n",
    "            skip1c -= 1\n",
    "        elif i == '>' and skip2c > 0:\n",
    "            skip2c -= 1\n",
    "        elif i == '}' and skip3c > 0:\n",
    "            skip3c -= 1\n",
    "        elif skip1c == 0 and skip2c == 0 and skip3c == 0:\n",
    "            ret += i\n",
    "    return ret\n",
    "\n",
    "print('Digite \"comandos\" para saber os comandos disponíveis ou \"clear\" para limpar a saída')\n",
    "while(1):\n",
    "    entrada = input(\"Digite o comando: \")\n",
    "    if(entrada !='comandos' and entrada != 'clear'):\n",
    "        saida = 'http://localhost:8080/servidor/webresources/helloworld/' + entrada\n",
    "        r = requests.get(saida)\n",
    "        print(saida)\n",
    "        print(rmv_str(r.text))\n",
    "    if(entrada=='comandos'):\n",
    "        print('Comandos disponíveis:')\n",
    "        print(' - Compra de ações   ->  compra:seuID:nomeAção:Preço')\n",
    "        print(' - Venda de ações    ->  venda:seuID:nomeAção:Preço')\n",
    "        print(' - Consulta de preço ->  consulta:seuID:nomeAção')\n",
    "        print(' - Checar status     ->  check:idTransação')\n",
    "    if(entrada=='clear'):\n",
    "        clear_output()\n",
    "        print('Digite \"comandos\" para saber os comandos disponíveis ou \"clear\" para limpar a saída')"
   ]
  },
  {
   "cell_type": "code",
   "execution_count": null,
   "metadata": {
    "collapsed": true
   },
   "outputs": [],
   "source": []
  }
 ],
 "metadata": {
  "kernelspec": {
   "display_name": "Python 3",
   "language": "python",
   "name": "python3"
  },
  "language_info": {
   "codemirror_mode": {
    "name": "ipython",
    "version": 3
   },
   "file_extension": ".py",
   "mimetype": "text/x-python",
   "name": "python",
   "nbconvert_exporter": "python",
   "pygments_lexer": "ipython3",
   "version": "3.6.0"
  }
 },
 "nbformat": 4,
 "nbformat_minor": 2
}
